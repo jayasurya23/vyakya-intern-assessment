{
 "cells": [
  {
   "cell_type": "code",
   "execution_count": 140,
   "metadata": {},
   "outputs": [],
   "source": [
    "import numpy as np\n",
    "import pandas as pd \n",
    "import json\n",
    "from datetime import datetime\n",
    "import re\n",
    "import csv\n",
    "from pandas import ExcelWriter\n"
   ]
  },
  {
   "cell_type": "code",
   "execution_count": 5,
   "metadata": {},
   "outputs": [],
   "source": [
    "\n",
    "fileObject = open(\"task_input_list.json\", \"r\")\n",
    "jsonContent = fileObject.read()\n",
    "df = json.loads(jsonContent)\n"
   ]
  },
  {
   "cell_type": "code",
   "execution_count": 13,
   "metadata": {},
   "outputs": [],
   "source": [
    "df2=[]\n",
    "expr = '^(?!$).-*[0-9,]*\\.[0-9]+'\n",
    "for x in range(0,len(df)):\n",
    "    match = re.search(expr,df[x])\n",
    "    # print(match)\n",
    "    if match != None:\n",
    "        # print(df[x-1])\n",
    "        if \"other\" not in df[x-1].lower():\n",
    "            # print(df[x])\n",
    "\n",
    "            df2.append(match.group(0))\n"
   ]
  },
  {
   "cell_type": "code",
   "execution_count": 16,
   "metadata": {},
   "outputs": [
    {
     "name": "stdout",
     "output_type": "stream",
     "text": [
      "74 130\n",
      "['Deposits and other additions', 'Date', 'Description', 'Amount', '12/03/18', 'Counter Credit', '8,075.00', '12/10/18', 'Counter Credit', '9,970.00', '12/21/18', 'PAYPAL', 'DES:TRANSFER ID:1004561753452 INDN:', 'CO', '1,000.00', '12/24/18', 'Counter Credit', '8,405.00', 'Total deposits and other additions', '$27,450.00', 'Withdrawals and other subtractions', 'Other subtractions', 'Date', 'Description', 'Amount', '11/30/18', 'Automatic Transfer to SAV 2084 Confirmation# 1313790286', '-25.00', '12/03/18', 'Online Banking payment to CRD 8610 Confirmation# 0485104765', '-200.00', '12/04/18', 'Customer Withdrawal Image', '-12,000.00', '12/07/18', 'TRANSFER ', '-3,695.00', '12/11/18', 'CARFAX', 'DES:BT1210 ID:000000071591462 INDN:', 'CO ID:1251465303', '-399.98', '12/13/18', 'TRANSFER  :J Cars Confirmation# 0472167145', '-3,955.00', '12/19/18', 'TRANSFER  :J Cars Confirmation# 0423610629', '-13,990.00', '12/20/18', 'SOUTHWEST GAS DES:WEB', 'ID:1410023972050 INDN:JOHNSON', 'CO', '-28.25', '12/21/18', 'TRANSFER  :J Cars Confirmation# 1642822709', '-16,630.00']\n"
     ]
    }
   ],
   "source": [
    "for i in range(0,len(df)):\n",
    "    if df[i]==\"Deposits and other additions\":\n",
    "        x=i\n",
    "    if df[i]==\"Total other subtractions\":\n",
    "        y=i\n",
    "print(x,y)\n",
    "data=df[x:y]\n",
    "print(data)"
   ]
  },
  {
   "cell_type": "code",
   "execution_count": 25,
   "metadata": {},
   "outputs": [
    {
     "name": "stdout",
     "output_type": "stream",
     "text": [
      "['Deposits and other additions', 'Date', 'Description', 'Amount', '12/03/18', 'Counter Credit', '8,075.00', '12/10/18', 'Counter Credit', '9,970.00', '12/21/18', 'PAYPAL', 'DES:TRANSFER ID:1004561753452 INDN:', 'CO', '1,000.00', '12/24/18', 'Counter Credit', '8,405.00', 'Total deposits and other additions', '$27,450.00'] ['Withdrawals and other subtractions', 'Other subtractions', 'Date', 'Description', 'Amount', '11/30/18', 'Automatic Transfer to SAV 2084 Confirmation# 1313790286', '-25.00', '12/03/18', 'Online Banking payment to CRD 8610 Confirmation# 0485104765', '-200.00', '12/04/18', 'Customer Withdrawal Image', '-12,000.00', '12/07/18', 'TRANSFER ', '-3,695.00', '12/11/18', 'CARFAX', 'DES:BT1210 ID:000000071591462 INDN:', 'CO ID:1251465303', '-399.98', '12/13/18', 'TRANSFER  :J Cars Confirmation# 0472167145', '-3,955.00', '12/19/18', 'TRANSFER  :J Cars Confirmation# 0423610629', '-13,990.00', '12/20/18', 'SOUTHWEST GAS DES:WEB', 'ID:1410023972050 INDN:JOHNSON', 'CO', '-28.25', '12/21/18', 'TRANSFER  :J Cars Confirmation# 1642822709', '-16,630.00']\n"
     ]
    }
   ],
   "source": [
    "\n",
    "x=(data.index('Withdrawals and other subtractions'))\n",
    "deposit=data[:x]\n",
    "withdraw=data[x:]\n",
    "print(deposit,withdraw)"
   ]
  },
  {
   "cell_type": "code",
   "execution_count": 86,
   "metadata": {},
   "outputs": [
    {
     "name": "stdout",
     "output_type": "stream",
     "text": [
      "['12/03/18', '12/10/18', '12/21/18', '12/24/18'] ['11/30/18', '12/03/18', '12/04/18', '12/07/18', '12/11/18', '12/13/18', '12/19/18', '12/20/18', '12/21/18']\n"
     ]
    }
   ],
   "source": [
    "ds = ' '.join(deposit)\n",
    "ws = ' '.join(withdraw)\n",
    "d_dates = re.findall(r'\\d{2}/\\d{2}/\\d{2}',ds)\n",
    "w_dates=re.findall(r'\\d{2}/\\d{2}/\\d{2}',ws)\n",
    "print(d_dates,w_dates)"
   ]
  },
  {
   "cell_type": "code",
   "execution_count": 75,
   "metadata": {},
   "outputs": [
    {
     "name": "stdout",
     "output_type": "stream",
     "text": [
      "['8,075.00', '9,970.00', '1,000.00', '8,405.00'] ['-25.00', '-200.00', '-12,000.00', '-3,695.00', '-399.98', '-3,955.00', '-13,990.00', '-28.25', '-16,630.00']\n"
     ]
    }
   ],
   "source": [
    "d_amount=[]\n",
    "w_amount=[]\n",
    "expr = '^(?![$]).-*[0-9,]*\\.[0-9]+'\n",
    "for x in range(0,len(deposit)):\n",
    "    match = re.search(expr,deposit[x])\n",
    "    # print(match)\n",
    "    if match != None:\n",
    "\n",
    "        d_amount.append(match.group(0))\n",
    "for x in range(0,len(withdraw)):\n",
    "    match = re.search(expr,withdraw[x])\n",
    "    # print(match)\n",
    "    if match != None:\n",
    "\n",
    "        w_amount.append(match.group(0))\n",
    "print(d_amount,w_amount)"
   ]
  },
  {
   "cell_type": "code",
   "execution_count": 76,
   "metadata": {},
   "outputs": [
    {
     "name": "stdout",
     "output_type": "stream",
     "text": [
      "[' Counter Credit ', ' Counter Credit ', ' PAYPAL DES:TRANSFER ID:1004561753452 INDN: CO ', ' Counter Credit ']\n",
      "[' Automatic Transfer to SAV 2084 Confirmation# 1313790286 ', ' Online Banking payment to CRD 8610 Confirmation# 0485104765 ', ' Customer Withdrawal Image ', ' TRANSFER  ', ' CARFAX DES:BT1210 ID:000000071591462 INDN: CO ID:1251465303 ', ' TRANSFER  :J Cars Confirmation# 0472167145 ', ' TRANSFER  :J Cars Confirmation# 0423610629 ', ' SOUTHWEST GAS DES:WEB ID:1410023972050 INDN:JOHNSON CO ', ' TRANSFER  :J Cars Confirmation# 1642822709 ']\n"
     ]
    }
   ],
   "source": [
    "d_desc=[]\n",
    "w_desc=[]\n",
    "for x in range(0,len(d_dates)):\n",
    "    start_string = d_dates[x]\n",
    "    end_string = d_amount[x]\n",
    "    result_string = ds.split(start_string)[1].split(end_string)[0]\n",
    "    d_desc.append(result_string)\n",
    "for x in range(0,len(w_dates)):\n",
    "    start_string = w_dates[x]\n",
    "    end_string = w_amount[x]\n",
    "    result_string = ws.split(start_string)[1].split(end_string)[0]\n",
    "    w_desc.append(result_string)\n",
    "\n",
    "print(d_desc)\n",
    "print(w_desc)"
   ]
  },
  {
   "cell_type": "code",
   "execution_count": 51,
   "metadata": {},
   "outputs": [],
   "source": [
    "deposit_amount=[float(item.replace(',','')) for item in d_amount]\n",
    "withdraw_amount=[float(item.replace(',','')) for item in w_amount]"
   ]
  },
  {
   "cell_type": "code",
   "execution_count": 83,
   "metadata": {},
   "outputs": [
    {
     "ename": "TypeError",
     "evalue": "strptime() argument 1 must be str, not datetime.datetime",
     "output_type": "error",
     "traceback": [
      "\u001b[1;31m---------------------------------------------------------------------------\u001b[0m",
      "\u001b[1;31mTypeError\u001b[0m                                 Traceback (most recent call last)",
      "\u001b[1;32m<ipython-input-83-19403807463c>\u001b[0m in \u001b[0;36m<module>\u001b[1;34m\u001b[0m\n\u001b[0;32m      1\u001b[0m \u001b[0mdep_f\u001b[0m\u001b[1;33m=\u001b[0m\u001b[0mpd\u001b[0m\u001b[1;33m.\u001b[0m\u001b[0mDataFrame\u001b[0m\u001b[1;33m(\u001b[0m\u001b[0mcolumns\u001b[0m\u001b[1;33m=\u001b[0m\u001b[1;33m[\u001b[0m\u001b[1;34m'date'\u001b[0m\u001b[1;33m,\u001b[0m\u001b[1;34m'description'\u001b[0m\u001b[1;33m,\u001b[0m\u001b[1;34m'amount'\u001b[0m\u001b[1;33m]\u001b[0m\u001b[1;33m)\u001b[0m\u001b[1;33m\u001b[0m\u001b[1;33m\u001b[0m\u001b[0m\n\u001b[0;32m      2\u001b[0m \u001b[0mwith_f\u001b[0m\u001b[1;33m=\u001b[0m\u001b[0mpd\u001b[0m\u001b[1;33m.\u001b[0m\u001b[0mDataFrame\u001b[0m\u001b[1;33m(\u001b[0m\u001b[0mcolumns\u001b[0m\u001b[1;33m=\u001b[0m\u001b[1;33m[\u001b[0m\u001b[1;34m'date'\u001b[0m\u001b[1;33m,\u001b[0m\u001b[1;34m'description'\u001b[0m\u001b[1;33m,\u001b[0m\u001b[1;34m'amount'\u001b[0m\u001b[1;33m]\u001b[0m\u001b[1;33m)\u001b[0m\u001b[1;33m\u001b[0m\u001b[1;33m\u001b[0m\u001b[0m\n\u001b[1;32m----> 3\u001b[1;33m \u001b[0mw_dates\u001b[0m\u001b[1;33m=\u001b[0m\u001b[1;33m[\u001b[0m\u001b[0mdatetime\u001b[0m\u001b[1;33m.\u001b[0m\u001b[0mstrptime\u001b[0m\u001b[1;33m(\u001b[0m\u001b[0mitem\u001b[0m\u001b[1;33m,\u001b[0m\u001b[1;34m\"%m/%d/%y\"\u001b[0m\u001b[1;33m)\u001b[0m \u001b[1;32mfor\u001b[0m \u001b[0mitem\u001b[0m \u001b[1;32min\u001b[0m \u001b[0mw_dates\u001b[0m\u001b[1;33m]\u001b[0m\u001b[1;33m\u001b[0m\u001b[1;33m\u001b[0m\u001b[0m\n\u001b[0m\u001b[0;32m      4\u001b[0m \u001b[0md_dates\u001b[0m\u001b[1;33m=\u001b[0m\u001b[1;33m[\u001b[0m\u001b[0mdatetime\u001b[0m\u001b[1;33m.\u001b[0m\u001b[0mstrptime\u001b[0m\u001b[1;33m(\u001b[0m\u001b[0mitem\u001b[0m\u001b[1;33m,\u001b[0m\u001b[1;34m\"%m/%d/%y\"\u001b[0m\u001b[1;33m)\u001b[0m \u001b[1;32mfor\u001b[0m \u001b[0mitem\u001b[0m \u001b[1;32min\u001b[0m \u001b[0md_dates\u001b[0m\u001b[1;33m]\u001b[0m\u001b[1;33m\u001b[0m\u001b[1;33m\u001b[0m\u001b[0m\n\u001b[0;32m      5\u001b[0m \u001b[1;33m\u001b[0m\u001b[0m\n",
      "\u001b[1;32m<ipython-input-83-19403807463c>\u001b[0m in \u001b[0;36m<listcomp>\u001b[1;34m(.0)\u001b[0m\n\u001b[0;32m      1\u001b[0m \u001b[0mdep_f\u001b[0m\u001b[1;33m=\u001b[0m\u001b[0mpd\u001b[0m\u001b[1;33m.\u001b[0m\u001b[0mDataFrame\u001b[0m\u001b[1;33m(\u001b[0m\u001b[0mcolumns\u001b[0m\u001b[1;33m=\u001b[0m\u001b[1;33m[\u001b[0m\u001b[1;34m'date'\u001b[0m\u001b[1;33m,\u001b[0m\u001b[1;34m'description'\u001b[0m\u001b[1;33m,\u001b[0m\u001b[1;34m'amount'\u001b[0m\u001b[1;33m]\u001b[0m\u001b[1;33m)\u001b[0m\u001b[1;33m\u001b[0m\u001b[1;33m\u001b[0m\u001b[0m\n\u001b[0;32m      2\u001b[0m \u001b[0mwith_f\u001b[0m\u001b[1;33m=\u001b[0m\u001b[0mpd\u001b[0m\u001b[1;33m.\u001b[0m\u001b[0mDataFrame\u001b[0m\u001b[1;33m(\u001b[0m\u001b[0mcolumns\u001b[0m\u001b[1;33m=\u001b[0m\u001b[1;33m[\u001b[0m\u001b[1;34m'date'\u001b[0m\u001b[1;33m,\u001b[0m\u001b[1;34m'description'\u001b[0m\u001b[1;33m,\u001b[0m\u001b[1;34m'amount'\u001b[0m\u001b[1;33m]\u001b[0m\u001b[1;33m)\u001b[0m\u001b[1;33m\u001b[0m\u001b[1;33m\u001b[0m\u001b[0m\n\u001b[1;32m----> 3\u001b[1;33m \u001b[0mw_dates\u001b[0m\u001b[1;33m=\u001b[0m\u001b[1;33m[\u001b[0m\u001b[0mdatetime\u001b[0m\u001b[1;33m.\u001b[0m\u001b[0mstrptime\u001b[0m\u001b[1;33m(\u001b[0m\u001b[0mitem\u001b[0m\u001b[1;33m,\u001b[0m\u001b[1;34m\"%m/%d/%y\"\u001b[0m\u001b[1;33m)\u001b[0m \u001b[1;32mfor\u001b[0m \u001b[0mitem\u001b[0m \u001b[1;32min\u001b[0m \u001b[0mw_dates\u001b[0m\u001b[1;33m]\u001b[0m\u001b[1;33m\u001b[0m\u001b[1;33m\u001b[0m\u001b[0m\n\u001b[0m\u001b[0;32m      4\u001b[0m \u001b[0md_dates\u001b[0m\u001b[1;33m=\u001b[0m\u001b[1;33m[\u001b[0m\u001b[0mdatetime\u001b[0m\u001b[1;33m.\u001b[0m\u001b[0mstrptime\u001b[0m\u001b[1;33m(\u001b[0m\u001b[0mitem\u001b[0m\u001b[1;33m,\u001b[0m\u001b[1;34m\"%m/%d/%y\"\u001b[0m\u001b[1;33m)\u001b[0m \u001b[1;32mfor\u001b[0m \u001b[0mitem\u001b[0m \u001b[1;32min\u001b[0m \u001b[0md_dates\u001b[0m\u001b[1;33m]\u001b[0m\u001b[1;33m\u001b[0m\u001b[1;33m\u001b[0m\u001b[0m\n\u001b[0;32m      5\u001b[0m \u001b[1;33m\u001b[0m\u001b[0m\n",
      "\u001b[1;31mTypeError\u001b[0m: strptime() argument 1 must be str, not datetime.datetime"
     ]
    }
   ],
   "source": [
    "dep_f=pd.DataFrame(columns=['date','description','amount'])\n",
    "with_f=pd.DataFrame(columns=['date','description','amount'])\n",
    "w_dates=[datetime.strptime(item,\"%m/%d/%y\") for item in w_dates]\n",
    "d_dates=[datetime.strptime(item,\"%m/%d/%y\") for item in w_dates]\n",
    "\n"
   ]
  },
  {
   "cell_type": "code",
   "execution_count": 84,
   "metadata": {},
   "outputs": [
    {
     "data": {
      "text/html": [
       "<div>\n",
       "<style scoped>\n",
       "    .dataframe tbody tr th:only-of-type {\n",
       "        vertical-align: middle;\n",
       "    }\n",
       "\n",
       "    .dataframe tbody tr th {\n",
       "        vertical-align: top;\n",
       "    }\n",
       "\n",
       "    .dataframe thead th {\n",
       "        text-align: right;\n",
       "    }\n",
       "</style>\n",
       "<table border=\"1\" class=\"dataframe\">\n",
       "  <thead>\n",
       "    <tr style=\"text-align: right;\">\n",
       "      <th></th>\n",
       "      <th>date</th>\n",
       "      <th>description</th>\n",
       "      <th>amount</th>\n",
       "    </tr>\n",
       "  </thead>\n",
       "  <tbody>\n",
       "    <tr>\n",
       "      <th>0</th>\n",
       "      <td>2018-11-30</td>\n",
       "      <td>Automatic Transfer to SAV 2084 Confirmation# ...</td>\n",
       "      <td>-25.00</td>\n",
       "    </tr>\n",
       "    <tr>\n",
       "      <th>1</th>\n",
       "      <td>2018-12-03</td>\n",
       "      <td>Online Banking payment to CRD 8610 Confirmati...</td>\n",
       "      <td>-200.00</td>\n",
       "    </tr>\n",
       "    <tr>\n",
       "      <th>2</th>\n",
       "      <td>2018-12-04</td>\n",
       "      <td>Customer Withdrawal Image</td>\n",
       "      <td>-12000.00</td>\n",
       "    </tr>\n",
       "    <tr>\n",
       "      <th>3</th>\n",
       "      <td>2018-12-07</td>\n",
       "      <td>TRANSFER</td>\n",
       "      <td>-3695.00</td>\n",
       "    </tr>\n",
       "    <tr>\n",
       "      <th>4</th>\n",
       "      <td>2018-12-11</td>\n",
       "      <td>CARFAX DES:BT1210 ID:000000071591462 INDN: CO...</td>\n",
       "      <td>-399.98</td>\n",
       "    </tr>\n",
       "    <tr>\n",
       "      <th>5</th>\n",
       "      <td>2018-12-13</td>\n",
       "      <td>TRANSFER  :J Cars Confirmation# 0472167145</td>\n",
       "      <td>-3955.00</td>\n",
       "    </tr>\n",
       "    <tr>\n",
       "      <th>6</th>\n",
       "      <td>2018-12-19</td>\n",
       "      <td>TRANSFER  :J Cars Confirmation# 0423610629</td>\n",
       "      <td>-13990.00</td>\n",
       "    </tr>\n",
       "    <tr>\n",
       "      <th>7</th>\n",
       "      <td>2018-12-20</td>\n",
       "      <td>SOUTHWEST GAS DES:WEB ID:1410023972050 INDN:J...</td>\n",
       "      <td>-28.25</td>\n",
       "    </tr>\n",
       "    <tr>\n",
       "      <th>8</th>\n",
       "      <td>2018-12-21</td>\n",
       "      <td>TRANSFER  :J Cars Confirmation# 1642822709</td>\n",
       "      <td>-16630.00</td>\n",
       "    </tr>\n",
       "  </tbody>\n",
       "</table>\n",
       "</div>"
      ],
      "text/plain": [
       "        date                                        description    amount\n",
       "0 2018-11-30   Automatic Transfer to SAV 2084 Confirmation# ...    -25.00\n",
       "1 2018-12-03   Online Banking payment to CRD 8610 Confirmati...   -200.00\n",
       "2 2018-12-04                         Customer Withdrawal Image  -12000.00\n",
       "3 2018-12-07                                         TRANSFER    -3695.00\n",
       "4 2018-12-11   CARFAX DES:BT1210 ID:000000071591462 INDN: CO...   -399.98\n",
       "5 2018-12-13        TRANSFER  :J Cars Confirmation# 0472167145   -3955.00\n",
       "6 2018-12-19        TRANSFER  :J Cars Confirmation# 0423610629  -13990.00\n",
       "7 2018-12-20   SOUTHWEST GAS DES:WEB ID:1410023972050 INDN:J...    -28.25\n",
       "8 2018-12-21        TRANSFER  :J Cars Confirmation# 1642822709  -16630.00"
      ]
     },
     "execution_count": 84,
     "metadata": {},
     "output_type": "execute_result"
    }
   ],
   "source": [
    "\n",
    "\n",
    "dep_f['date']=d_dates\n",
    "dep_f['description']=d_desc\n",
    "dep_f['amount']=deposit_amount\n",
    "\n",
    "with_f['date']=w_dates\n",
    "with_f['description']=w_desc\n",
    "with_f['amount']=withdraw_amount\n",
    "with_f"
   ]
  },
  {
   "cell_type": "code",
   "execution_count": 85,
   "metadata": {},
   "outputs": [
    {
     "data": {
      "text/html": [
       "<div>\n",
       "<style scoped>\n",
       "    .dataframe tbody tr th:only-of-type {\n",
       "        vertical-align: middle;\n",
       "    }\n",
       "\n",
       "    .dataframe tbody tr th {\n",
       "        vertical-align: top;\n",
       "    }\n",
       "\n",
       "    .dataframe thead th {\n",
       "        text-align: right;\n",
       "    }\n",
       "</style>\n",
       "<table border=\"1\" class=\"dataframe\">\n",
       "  <thead>\n",
       "    <tr style=\"text-align: right;\">\n",
       "      <th></th>\n",
       "      <th>date</th>\n",
       "      <th>description</th>\n",
       "      <th>amount</th>\n",
       "      <th>day</th>\n",
       "      <th>month</th>\n",
       "      <th>year</th>\n",
       "    </tr>\n",
       "  </thead>\n",
       "  <tbody>\n",
       "    <tr>\n",
       "      <th>0</th>\n",
       "      <td>2018-11-30</td>\n",
       "      <td>Automatic Transfer to SAV 2084 Confirmation# ...</td>\n",
       "      <td>-25.00</td>\n",
       "      <td>30</td>\n",
       "      <td>11</td>\n",
       "      <td>2018</td>\n",
       "    </tr>\n",
       "    <tr>\n",
       "      <th>1</th>\n",
       "      <td>2018-12-03</td>\n",
       "      <td>Online Banking payment to CRD 8610 Confirmati...</td>\n",
       "      <td>-200.00</td>\n",
       "      <td>3</td>\n",
       "      <td>12</td>\n",
       "      <td>2018</td>\n",
       "    </tr>\n",
       "    <tr>\n",
       "      <th>2</th>\n",
       "      <td>2018-12-04</td>\n",
       "      <td>Customer Withdrawal Image</td>\n",
       "      <td>-12000.00</td>\n",
       "      <td>4</td>\n",
       "      <td>12</td>\n",
       "      <td>2018</td>\n",
       "    </tr>\n",
       "    <tr>\n",
       "      <th>3</th>\n",
       "      <td>2018-12-07</td>\n",
       "      <td>TRANSFER</td>\n",
       "      <td>-3695.00</td>\n",
       "      <td>7</td>\n",
       "      <td>12</td>\n",
       "      <td>2018</td>\n",
       "    </tr>\n",
       "    <tr>\n",
       "      <th>4</th>\n",
       "      <td>2018-12-11</td>\n",
       "      <td>CARFAX DES:BT1210 ID:000000071591462 INDN: CO...</td>\n",
       "      <td>-399.98</td>\n",
       "      <td>11</td>\n",
       "      <td>12</td>\n",
       "      <td>2018</td>\n",
       "    </tr>\n",
       "    <tr>\n",
       "      <th>5</th>\n",
       "      <td>2018-12-13</td>\n",
       "      <td>TRANSFER  :J Cars Confirmation# 0472167145</td>\n",
       "      <td>-3955.00</td>\n",
       "      <td>13</td>\n",
       "      <td>12</td>\n",
       "      <td>2018</td>\n",
       "    </tr>\n",
       "    <tr>\n",
       "      <th>6</th>\n",
       "      <td>2018-12-19</td>\n",
       "      <td>TRANSFER  :J Cars Confirmation# 0423610629</td>\n",
       "      <td>-13990.00</td>\n",
       "      <td>19</td>\n",
       "      <td>12</td>\n",
       "      <td>2018</td>\n",
       "    </tr>\n",
       "    <tr>\n",
       "      <th>7</th>\n",
       "      <td>2018-12-20</td>\n",
       "      <td>SOUTHWEST GAS DES:WEB ID:1410023972050 INDN:J...</td>\n",
       "      <td>-28.25</td>\n",
       "      <td>20</td>\n",
       "      <td>12</td>\n",
       "      <td>2018</td>\n",
       "    </tr>\n",
       "    <tr>\n",
       "      <th>8</th>\n",
       "      <td>2018-12-21</td>\n",
       "      <td>TRANSFER  :J Cars Confirmation# 1642822709</td>\n",
       "      <td>-16630.00</td>\n",
       "      <td>21</td>\n",
       "      <td>12</td>\n",
       "      <td>2018</td>\n",
       "    </tr>\n",
       "  </tbody>\n",
       "</table>\n",
       "</div>"
      ],
      "text/plain": [
       "        date                                        description    amount  \\\n",
       "0 2018-11-30   Automatic Transfer to SAV 2084 Confirmation# ...    -25.00   \n",
       "1 2018-12-03   Online Banking payment to CRD 8610 Confirmati...   -200.00   \n",
       "2 2018-12-04                         Customer Withdrawal Image  -12000.00   \n",
       "3 2018-12-07                                         TRANSFER    -3695.00   \n",
       "4 2018-12-11   CARFAX DES:BT1210 ID:000000071591462 INDN: CO...   -399.98   \n",
       "5 2018-12-13        TRANSFER  :J Cars Confirmation# 0472167145   -3955.00   \n",
       "6 2018-12-19        TRANSFER  :J Cars Confirmation# 0423610629  -13990.00   \n",
       "7 2018-12-20   SOUTHWEST GAS DES:WEB ID:1410023972050 INDN:J...    -28.25   \n",
       "8 2018-12-21        TRANSFER  :J Cars Confirmation# 1642822709  -16630.00   \n",
       "\n",
       "   day  month  year  \n",
       "0   30     11  2018  \n",
       "1    3     12  2018  \n",
       "2    4     12  2018  \n",
       "3    7     12  2018  \n",
       "4   11     12  2018  \n",
       "5   13     12  2018  \n",
       "6   19     12  2018  \n",
       "7   20     12  2018  \n",
       "8   21     12  2018  "
      ]
     },
     "execution_count": 85,
     "metadata": {},
     "output_type": "execute_result"
    }
   ],
   "source": [
    "dep_f['day'] = dep_f['date'].dt.day\n",
    "dep_f['month'] = dep_f['date'].dt.month\n",
    "dep_f['year'] = dep_f['date'].dt.year\n",
    "dep_f\n",
    "\n",
    "with_f['day'] = with_f['date'].dt.day\n",
    "with_f['month'] = with_f['date'].dt.month\n",
    "with_f['year'] = with_f['date'].dt.year\n",
    "with_f"
   ]
  },
  {
   "cell_type": "code",
   "execution_count": 87,
   "metadata": {},
   "outputs": [],
   "source": [
    "with_f['date']=w_dates\n",
    "dep_f['date']=d_dates"
   ]
  },
  {
   "cell_type": "code",
   "execution_count": 179,
   "metadata": {},
   "outputs": [
    {
     "data": {
      "text/plain": [
       "{'max amount': 9970.0, 'min amount': -16630.0}"
      ]
     },
     "execution_count": 179,
     "metadata": {},
     "output_type": "execute_result"
    }
   ],
   "source": [
    "insights={}\n",
    "insights[\"max amount\"]= max(deposit_amount)\n",
    "insights[\"min amount\"]=min(withdraw_amount)\n",
    "insights"
   ]
  },
  {
   "cell_type": "code",
   "execution_count": 188,
   "metadata": {},
   "outputs": [
    {
     "name": "stdout",
     "output_type": "stream",
     "text": [
      "['bankingservices.com', 'bankingservices.com/MyRewards'] []\n"
     ]
    }
   ],
   "source": [
    "from urlextract import URLExtract\n",
    "s = ' '.join(df)\n",
    "extractor = URLExtract()\n",
    "urls = extractor.find_urls(s)\n",
    "phone=[]\n",
    "\n",
    "phone=re.findall(r'[\\+\\(]?[1-9][0-9 .\\-\\(\\)]{8,}[0-9]', s)\n",
    "phone=phone[:3]\n",
    "emails = re.findall(r'[\\w\\.-]+@[\\w\\.-]+', s)\n",
    "print(urls,emails)\n",
    "insights[\"website\"]=','.join(urls)\n",
    "insights[\"email\"]=','.join(emails)\n",
    "insights[\"phone\"]=','.join(phone)\n"
   ]
  },
  {
   "cell_type": "code",
   "execution_count": 190,
   "metadata": {},
   "outputs": [
    {
     "data": {
      "text/html": [
       "<div>\n",
       "<style scoped>\n",
       "    .dataframe tbody tr th:only-of-type {\n",
       "        vertical-align: middle;\n",
       "    }\n",
       "\n",
       "    .dataframe tbody tr th {\n",
       "        vertical-align: top;\n",
       "    }\n",
       "\n",
       "    .dataframe thead th {\n",
       "        text-align: right;\n",
       "    }\n",
       "</style>\n",
       "<table border=\"1\" class=\"dataframe\">\n",
       "  <thead>\n",
       "    <tr style=\"text-align: right;\">\n",
       "      <th></th>\n",
       "      <th>keys</th>\n",
       "      <th>value</th>\n",
       "    </tr>\n",
       "  </thead>\n",
       "  <tbody>\n",
       "    <tr>\n",
       "      <th>0</th>\n",
       "      <td>max amount</td>\n",
       "      <td>9970</td>\n",
       "    </tr>\n",
       "    <tr>\n",
       "      <th>1</th>\n",
       "      <td>min amount</td>\n",
       "      <td>-16630</td>\n",
       "    </tr>\n",
       "    <tr>\n",
       "      <th>2</th>\n",
       "      <td>website</td>\n",
       "      <td>bankingservices.com,bankingservices.com/MyRewards</td>\n",
       "    </tr>\n",
       "    <tr>\n",
       "      <th>3</th>\n",
       "      <td>email</td>\n",
       "      <td></td>\n",
       "    </tr>\n",
       "    <tr>\n",
       "      <th>4</th>\n",
       "      <td>phone</td>\n",
       "      <td>(555) 555-1234,(800) 555-1234,1-800-555-1234</td>\n",
       "    </tr>\n",
       "  </tbody>\n",
       "</table>\n",
       "</div>"
      ],
      "text/plain": [
       "         keys                                              value\n",
       "0  max amount                                               9970\n",
       "1  min amount                                             -16630\n",
       "2     website  bankingservices.com,bankingservices.com/MyRewards\n",
       "3       email                                                   \n",
       "4       phone       (555) 555-1234,(800) 555-1234,1-800-555-1234"
      ]
     },
     "execution_count": 190,
     "metadata": {},
     "output_type": "execute_result"
    }
   ],
   "source": [
    "insights_f = pd.DataFrame()\n",
    "c1= list(insights.keys())\n",
    "c2= list(insights.values())\n",
    "insights_f[\"keys\"]=c1\n",
    "insights_f[\"value\"]=c2\n",
    "insights_f"
   ]
  },
  {
   "cell_type": "code",
   "execution_count": 191,
   "metadata": {},
   "outputs": [],
   "source": [
    "\n",
    "writer = pd.ExcelWriter('result.xlsx')\n",
    "\n",
    "dep_f.to_excel(writer,index=False,sheet_name=\"DEPOSIT\")\n",
    "with_f.to_excel(writer,index=False,sheet_name=\"WITHDRAWAL\")\n",
    "insights_f.to_excel(writer,index=False,sheet_name=\"INSIGHTS\")\n",
    "\n",
    "writer.save()"
   ]
  },
  {
   "cell_type": "markdown",
   "metadata": {},
   "source": [
    "insights"
   ]
  }
 ],
 "metadata": {
  "interpreter": {
   "hash": "8775d97a7506e20d4c6222a2d468442853bde2f8312d28502b9aabc05886110b"
  },
  "kernelspec": {
   "display_name": "Python 3.8.5 64-bit ('tensor': conda)",
   "name": "python3"
  },
  "language_info": {
   "codemirror_mode": {
    "name": "ipython",
    "version": 3
   },
   "file_extension": ".py",
   "mimetype": "text/x-python",
   "name": "python",
   "nbconvert_exporter": "python",
   "pygments_lexer": "ipython3",
   "version": "3.8.5"
  },
  "orig_nbformat": 4
 },
 "nbformat": 4,
 "nbformat_minor": 2
}
